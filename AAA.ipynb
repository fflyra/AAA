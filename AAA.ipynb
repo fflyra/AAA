{
  "nbformat": 4,
  "nbformat_minor": 0,
  "metadata": {
    "colab": {
      "provenance": [],
      "authorship_tag": "ABX9TyPxwdY9nysLABADQo2e0Lxs",
      "include_colab_link": true
    },
    "kernelspec": {
      "name": "python3",
      "display_name": "Python 3"
    },
    "language_info": {
      "name": "python"
    }
  },
  "cells": [
    {
      "cell_type": "markdown",
      "metadata": {
        "id": "view-in-github",
        "colab_type": "text"
      },
      "source": [
        "<a href=\"https://colab.research.google.com/github/fflyra/AAA/blob/main/AAA.ipynb\" target=\"_parent\"><img src=\"https://colab.research.google.com/assets/colab-badge.svg\" alt=\"Open In Colab\"/></a>"
      ]
    },
    {
      "cell_type": "markdown",
      "source": [
        "CONVERSOR DE POLEGADA PARA MM"
      ],
      "metadata": {
        "id": "Y-o33pqsklDj"
      }
    },
    {
      "cell_type": "code",
      "execution_count": 17,
      "metadata": {
        "colab": {
          "base_uri": "https://localhost:8080/"
        },
        "id": "1sr7TU2fdc-R",
        "outputId": "b4f5c9a3-535a-47da-8b12-a26bf05b5134"
      },
      "outputs": [
        {
          "output_type": "stream",
          "name": "stdout",
          "text": [
            "Digite as polegadas para converter: 10\n",
            "O valor fornecido em polegadas: 10.0 foi convertido para Milimetros: 2.54e+02\n"
          ]
        }
      ],
      "source": [
        "polegada = float(input(\"Digite as polegadas para converter: \"))\n",
        "\n",
        "mm = polegada *25.4\n",
        "\n",
        "print(f\"O valor fornecido em polegadas: {polegada} foi convertido para Milimetros: {mm:.3}\")"
      ]
    },
    {
      "cell_type": "markdown",
      "source": [
        "CONVERTER MILIMETROS EM POLEGADA"
      ],
      "metadata": {
        "id": "Kv-QTtZYmJPJ"
      }
    },
    {
      "cell_type": "code",
      "source": [
        "mm = float(input(\"Digite o valor em milimetros \"))\n",
        "polegada = mm / 25.4\n",
        "\n",
        "print(f\"O valor fornecido em Milimetros: {mm} foi convertido para polegadas: {polegada: .3F}\")"
      ],
      "metadata": {
        "colab": {
          "base_uri": "https://localhost:8080/"
        },
        "id": "rxLXyfnTmN2P",
        "outputId": "962277b0-2c02-45a4-e525-b9f37063609e"
      },
      "execution_count": 21,
      "outputs": [
        {
          "output_type": "stream",
          "name": "stdout",
          "text": [
            "Digite o valor em milimetros 50\n",
            "O valor fornecido em Milimetros: 50.0 foi convertido para polegadas: 1.968503937007874\n"
          ]
        }
      ]
    },
    {
      "cell_type": "markdown",
      "source": [
        "VERIFICAR IDADE SE É MAIOR OU NAO"
      ],
      "metadata": {
        "id": "vlB1WMkenXUq"
      }
    },
    {
      "cell_type": "code",
      "source": [
        "idade = float(input(\"Digite a sua idade: \"))\n",
        "\n",
        "if 16 <= idade < 70:\n",
        "  print(\"Você tem entre 16 a 70 anos \")\n",
        "\n",
        "else:\n",
        "  print(\"Você tem menos de 16 ou mais que 70 \")"
      ],
      "metadata": {
        "colab": {
          "base_uri": "https://localhost:8080/"
        },
        "id": "jihVptQknco5",
        "outputId": "3c790205-c23b-4fa8-cd5a-dd9d4a567600"
      },
      "execution_count": 24,
      "outputs": [
        {
          "output_type": "stream",
          "name": "stdout",
          "text": [
            "Digite a sua idade: 17\n",
            "Você tem entre 16 a 70 anos \n"
          ]
        }
      ]
    },
    {
      "cell_type": "markdown",
      "source": [
        "6. CONVERTER ANGULO EM GRAUS PARA RADIANOS"
      ],
      "metadata": {
        "id": "TLGO_y09olc5"
      }
    },
    {
      "cell_type": "code",
      "source": [
        "import math\n",
        "\n",
        "g = float(input(\"Digite o valor em graus: \"))\n",
        "\n",
        "r = g * (math.pi / 180)\n",
        "\n",
        "print(f\"O valor convertido dos graus: {g} foi de {r: .4}\")\n",
        "\n"
      ],
      "metadata": {
        "colab": {
          "base_uri": "https://localhost:8080/"
        },
        "id": "yU1PtskJo_lA",
        "outputId": "a292225d-e465-41b1-ca04-ba4a915a27ed"
      },
      "execution_count": 26,
      "outputs": [
        {
          "output_type": "stream",
          "name": "stdout",
          "text": [
            "Digite o valor em graus: 10\n",
            "O valor convertido dos graus: 10.0 foi de  0.1745\n"
          ]
        }
      ]
    },
    {
      "cell_type": "markdown",
      "source": [
        "CONVERTA O RAIO DE UMA ESFERA E CONVERTA EM VOLUME"
      ],
      "metadata": {
        "id": "vl0FHfarrBLh"
      }
    },
    {
      "cell_type": "code",
      "source": [
        "import math\n",
        "\n",
        "r = float(input(\"Informe o valor do raio: \"))\n",
        "\n",
        "V = (4 / 3) * math.pi * (r*r*r)\n",
        "\n",
        "print(f\"O valor do raio {r} foi convertido no Volume{V: .2F}\")"
      ],
      "metadata": {
        "colab": {
          "base_uri": "https://localhost:8080/"
        },
        "id": "aCKsPtAerAxR",
        "outputId": "b80fa747-fd29-4227-ed6d-c689c5d2abe8"
      },
      "execution_count": 29,
      "outputs": [
        {
          "output_type": "stream",
          "name": "stdout",
          "text": [
            "Informe o valor do raio: 2\n",
            "O valor do raio 2.0 foi convertido no Volume 33.51\n"
          ]
        }
      ]
    }
  ]
}